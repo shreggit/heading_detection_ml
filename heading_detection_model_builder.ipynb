{
 "cells": [
  {
   "cell_type": "code",
   "execution_count": 11,
   "id": "24098b70",
   "metadata": {},
   "outputs": [],
   "source": [
    "import pandas as pd\n",
    "import numpy as np\n",
    "import sklearn\n",
    "from imblearn.over_sampling import SMOTE\n",
    "import matplotlib.pyplot as plt"
   ]
  },
  {
   "cell_type": "code",
   "execution_count": 2,
   "id": "6106683b",
   "metadata": {},
   "outputs": [],
   "source": [
    "new_df = pd.read_csv(\"Final_heading_det_data.csv\")\n",
    "new_df = new_df.drop(new_df.columns[:3], axis=1)"
   ]
  },
  {
   "cell_type": "code",
   "execution_count": 3,
   "id": "7a9807b3",
   "metadata": {},
   "outputs": [],
   "source": [
    "target = new_df.columns[-1]\n",
    "predictor = new_df.columns[1:-1]\n",
    "text = new_df.columns[0]\n",
    "x = new_df[predictor].values\n",
    "x = np.array(x, dtype=object)\n",
    "y = new_df[target].values\n",
    "z = new_df[text].values"
   ]
  },
  {
   "cell_type": "code",
   "execution_count": 4,
   "id": "f6d0350a",
   "metadata": {},
   "outputs": [],
   "source": [
    "from sklearn.model_selection import train_test_split\n",
    "x_train, x_test, y_train, y_test, z_train, z_test = train_test_split(x, y, z, test_size=0.2, random_state=42)"
   ]
  },
  {
   "cell_type": "code",
   "execution_count": 5,
   "id": "b41efe2d",
   "metadata": {},
   "outputs": [],
   "source": [
    "from sklearn import tree\n",
    "x_train = np.nan_to_num(x_train)\n",
    "x_test = np.nan_to_num(x_test)"
   ]
  },
  {
   "cell_type": "code",
   "execution_count": 6,
   "id": "11e45b5f",
   "metadata": {},
   "outputs": [],
   "source": [
    "from sklearn.impute import SimpleImputer\n",
    "imp_mean = SimpleImputer(missing_values=np.nan, strategy='mean')\n",
    "imp_mean.fit(x_train)\n",
    "x_train = imp_mean.transform(x_train)\n",
    "x_test = imp_mean.transform(x_test)"
   ]
  },
  {
   "cell_type": "code",
   "execution_count": 7,
   "id": "38664a4b",
   "metadata": {},
   "outputs": [
    {
     "name": "stderr",
     "output_type": "stream",
     "text": [
      "C:\\Users\\Hp\\anaconda3\\envs\\heading\\lib\\site-packages\\sklearn\\ensemble\\_gb.py:310: FutureWarning: The loss parameter name 'deviance' was deprecated in v1.1 and will be removed in version 1.3. Use the new parameter name 'log_loss' which is equivalent.\n",
      "  warnings.warn(\n"
     ]
    }
   ],
   "source": [
    "from sklearn.ensemble import GradientBoostingClassifier\n",
    "grad_boost = GradientBoostingClassiﬁer(loss = 'deviance', learning_rate= 0.25, min_samples_split = 4, min_samples_leaf = 1, max_depth = 4,n_estimators = 400, subsample = 0.5, criterion = 'friedman_mse')\n",
    "grad_boost = grad_boost.fit(x_train, y_train)"
   ]
  },
  {
   "cell_type": "code",
   "execution_count": 12,
   "id": "62fa1f03",
   "metadata": {},
   "outputs": [
    {
     "data": {
      "image/png": "[encoded data removed]",
      "text/plain": [
       "<Figure size 360x360 with 1 Axes>"
      ]
     },
     "metadata": {
      "needs_background": "light"
     },
     "output_type": "display_data"
    }
   ],
   "source": [
    "from sklearn.metrics import confusion_matrix\n",
    "from sklearn.metrics import precision_score, recall_score, f1_score, accuracy_score\n",
    "\n",
    "y_pred = grad_boost.predict(x_test)\n",
    "conf_matrix_grad = confusion_matrix(y_true=y_test, y_pred=y_pred)\n",
    "\n",
    "fig, ax = plt.subplots(figsize=(5, 5))\n",
    "ax.matshow(conf_matrix_grad, cmap=plt.cm.Oranges, alpha=0.3)\n",
    "for i in range(conf_matrix_grad.shape[0]):\n",
    "    for j in range(conf_matrix_grad.shape[1]):\n",
    "        ax.text(x=j, y=i,s=conf_matrix_grad[i, j], va='center', ha='center', size='xx-large')"
   ]
  },
  {
   "cell_type": "code",
   "execution_count": null,
   "id": "85a900d3",
   "metadata": {},
   "outputs": [],
   "source": [
    "import pickle\n",
    "filename = 'heading_det_model_gradboost1.sav'\n",
    "pickle.dump(grad_boost, open(filename, 'wb'))"
   ]
  }
 ],
 "metadata": {
  "kernelspec": {
   "display_name": "Python 3 (ipykernel)",
   "language": "python",
   "name": "python3"
  },
  "language_info": {
   "codemirror_mode": {
    "name": "ipython",
    "version": 3
   },
   "file_extension": ".py",
   "mimetype": "text/x-python",
   "name": "python",
   "nbconvert_exporter": "python",
   "pygments_lexer": "ipython3",
   "version": "3.10.4"
  }
 },
 "nbformat": 4,
 "nbformat_minor": 5
}
